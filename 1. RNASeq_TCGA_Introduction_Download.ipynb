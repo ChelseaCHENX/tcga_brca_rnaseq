{
 "cells": [
  {
   "cell_type": "markdown",
   "metadata": {},
   "source": [
    "# **Differential expression analysis from publically-available RNAseq data**\n",
    "\n",
    "## Goals\n",
    "1. Introduction to publically-available RNAseq data.\n",
    "2. Understanding the importance of metadata when using publically-available data and tools.\n",
    "3. Data wrangling for the use of open source tools.\n",
    "4. Use of Bioconductor tools through a real-world question.\n",
    "\n",
    "## Prerequisites\n",
    "- A working knowledge of R although the written code is intended to be as simple as possible for clarity.\n",
    "\n"
   ]
  },
  {
   "cell_type": "markdown",
   "metadata": {},
   "source": [
    "## RNAseq\n",
    "This is not intended to be a comprehensive explanation of RNAseq analysis, but by the end of this module you will have completed a simple Group A vs. Group B differential expression analysis using publically-available RNAseq data derived from [The Cancer Genome Atlas](https://cancergenome.nih.gov/), [reanalyzed to remove computational batch effects](https://www.nature.com/articles/nbt.3772), and [deposited for use](https://xenabrowser.net/datapages/?cohort=TCGA%20Pan-Cancer%20(PANCAN). This module also is a single example of how to do this analysis, but many different pipelines have been developed to give similar results. [Conesa et. al](https://www.ncbi.nlm.nih.gov/pmc/articles/PMC4728800/) published a fairly comprehensive review of RNAseq best practices and other groups have compared the effectiveness of different pipelines, such as [Soneson et al.](https://bmcbioinformatics.biomedcentral.com/articles/10.1186/1471-2105-14-91) and [Teng et al.](https://www.ncbi.nlm.nih.gov/pmc/articles/PMC4842274/)\n",
    "\n",
    "For a brief introduction to RNAseq, watch the first **8 minutes** of this video created by Josh Starmer at UNC. \n",
    "\n",
    "[![RNAseq intro](http://img.youtube.com/vi/tlf6wYJrwKY/0.jpg)](https://www.youtube.com/watch?v=tlf6wYJrwKY)\n"
   ]
  },
  {
   "cell_type": "markdown",
   "metadata": {},
   "source": [
    "***\n",
    "***\n",
    "***\n",
    "\n"
   ]
  },
  {
   "cell_type": "markdown",
   "metadata": {},
   "source": [
    "# How is RNAseq data publically-available? Isn't that a HIPPA violation?\n",
    "Great question. The publication of sequence alignments would be a HIPPA violation. However, there are several ways of analyzing RNAseq data and they do not all result in raw reads or alignment files.\n",
    "\n",
    "## *De Novo Assembly*\n",
    "- Typically used when a reference genome/transcriptome is unavailable or unreliable.\n",
    "- Extremely computationally intensive.\n",
    "- Results contain sequence information in alignment form (.bam)\n",
    "- Ex. [Trinity](https://www.ncbi.nlm.nih.gov/pmc/articles/PMC3875132/)\n",
    "\n",
    "\n",
    "\n",
    "## Referenced-based Assembly\n",
    "\n",
    "#### **Alignment-based**\n",
    "- Can only be used when a reference genome/transcriptome is available.\n",
    "- Computationally intensive, but not as much so as *de novo* assembly\n",
    "- Results contain sequence information in alignment form (.bam)\n",
    "- Some alignment based methods such as Tophat and HiSat2 can detect novel genes/isoforms.\n",
    "- Mutation/editing events can be called from alignment file.\n",
    "- Exs. [Tophat2](https://genomebiology.biomedcentral.com/articles/10.1186/gb-2013-14-4-r36) and [HiSat2](https://ccb.jhu.edu/software/hisat2/index.shtml)\n",
    "    \n",
    "#### **Alignment-free**\n",
    "- Requires a reference transcriptome.\n",
    "- Orders of magnitude faster than alignment-based methods.\n",
    "- **Resulting file does not contain sequence information**, but rather the number of reads (counts) of each transcript/gene.\n",
    "- Cannot detect novel genes/isoforms.\n",
    "- Exs. [Kallisto](https://www.nature.com/articles/nbt.3519) and [Salmon](https://www.nature.com/articles/nmeth.4197).\n",
    "\n",
    "\n",
    "\n",
    "\n",
    "\n"
   ]
  },
  {
   "cell_type": "markdown",
   "metadata": {},
   "source": [
    "# Where can I find publically-available alignment-free RNAseq data?\n",
    "Some authors choose to publish the files in the supplementary information with their papers, other deposit files into [GEO](https://www.ncbi.nlm.nih.gov/gds) or [SRA](https://www.ncbi.nlm.nih.gov/sra), and others have it hosted by browsers such as the [XENA Browser](https://xenabrowser.net/datapages/). The data that you will use in this module is counts data from [The Cancer Genome Atlas](https://cancergenome.nih.gov/) that we will download from the XENA browser. \n",
    "\n",
    "## TCGA\n",
    "The goal of the TCGA was to understand all of the changes that lead to the formation of cancer. See the image below for details about the type and amount data generated and some of the general findings.\n",
    "![TCGA](https://cancergenome.nih.gov/PublishedContent/Images/images/tcga-infographic-enlarge.__v100169753.png \"TCGA\")\n",
    "\n",
    "\n",
    "\n",
    "\n",
    "\n"
   ]
  },
  {
   "cell_type": "markdown",
   "metadata": {},
   "source": [
    "## Encyclopedia of DNA Elements (ENCODE)\n",
    "\n",
    "The original TCGA data was analyzed years ago using alignment-based approachs with a transcriptome file that only included ~20,000 genes. In the years since the original publication of the data, our understanding of the transcriptome has increased with large genomic studies such as [ENCODE](https://www.encodeproject.org/), which is also a repository of publically-available genomic data. ![ENCODE](https://www.encodeproject.org/static/img/classic-image.jpg \"ENCODE\") "
   ]
  },
  {
   "cell_type": "markdown",
   "metadata": {},
   "source": [
    "The results of ENCODE suggested that ~80% of the genome is functional and that there are closer to 60,000 genes than 20,000. Most of the other genes discovered were non-coding genes, meaning the functioning unit is the RNA rather than the RNA serving only as a meassage to make protein. That means if used the [publically-available TCGA data](https://gdac.broadinstitute.org/) than we would only be analzing 1/3 of the possible data. However, it would be unreasonable for us to reanalyze all of the TCGA data (it would cost ~$800,000 in compute time) and because it is referenced-based it would contain identifiable information, meaning we would need a data use agreement to do so. Fortunately, all of TCGA data was [reanalyzed](https://www.nature.com/articles/nbt.3772) with a newer genome annotation file that includes ~60,000 genes and ~200,000 transcripts. We will use this data that is available at from the [XENA Browser](https://xenabrowser.net/datapages/), which hosts over 1500 publically-available datasets.  "
   ]
  },
  {
   "cell_type": "markdown",
   "metadata": {},
   "source": [
    "***\n",
    "___\n",
    "---"
   ]
  },
  {
   "cell_type": "markdown",
   "metadata": {},
   "source": [
    "# The question that we will answer\n",
    "## What are the differentially expressed genes between HER2 positive and Triple-Negative Breast Cancer (TNBC)?\n",
    "Breast cancer is a classic example of the use of precision treatment. Patients with cancerous cells that express the estrogen receptor (ER+) receive hormone therapy and a recent [report](https://www.ncbi.nlm.nih.gov/pubmed/29860917?dopt=Abstract) demonstrates that a subset of those patients based entirely on gene expression do not benefit from chemotherapy. Likewise, patients with cancerous cells with amplified ERBB2 (HER2) are treated with a targeted therapy that has dramatically improved the prognosis of those patients. However, patients with breast cancer cells that do not express ER, HER2, or the progesteron receptor (PR) have what is known as triple-negative breast cancer (TNBC). There are currently no targeted therapies for TNBC breast cancer. One might be interested in what genes are expressed differently in HER2+ vs. TNBC given that HER2+ are typically also ER and PR negative. We will ask that question using the TCGA counts data. \n",
    "\n"
   ]
  },
  {
   "cell_type": "markdown",
   "metadata": {},
   "source": [
    "## Our pipeline\n",
    "In the pipeline image, the red text indicates the names of the R packages we will use to perform the analysis, the yellow boxes indicate the data (raw or processed), and the grey indicates what we will do in each step. Note that we will use [DESeq2](https://bioconductor.org/packages/release/bioc/html/DESeq2.html) to identify differentially expressed genes (DEGs). This is a highly cited package that uses a negative binomial distribution to calculate DEGs. However, there are multiple pipelines and programs to do this. [Knoweng](http://education.knoweng.org/sequenceng/) has a nice interface to explore other options, including the strengths and weaknesses of each.\n",
    "![](https://github.com/davidnboone/test-image/blob/master/overview-image.jpg?raw=true \"pipeline overview\")"
   ]
  },
  {
   "cell_type": "markdown",
   "metadata": {},
   "source": [
    "***\n",
    "***\n",
    "***"
   ]
  },
  {
   "cell_type": "markdown",
   "metadata": {},
   "source": [
    "# Let's get started by Installing and loading the necessary R packages\n",
    "\n"
   ]
  },
  {
   "cell_type": "code",
   "execution_count": 32,
   "metadata": {},
   "outputs": [],
   "source": [
    "#you can very easily use \"install.packages\" or \"biocLite\" to install the packages and \"library\" to load them\n",
    "#however, instead I am installing a package called pacman that will determine if a package is already installed\n",
    "#if it is not it will install it and after will load it\n",
    "#this method is convenient when sharing code that requires the use of others packages\n",
    "\n",
    "if (!require(\"pacman\")) install.packages(\"pacman\")\n",
    "pacman::p_load(R.utils, data.table, tximport, DESeq2, biomaRt, jsonlite, BiocParallel, ggplot2, gplots, RColorBrewer, devtools, pheatmap)\n",
    "\n",
    "\n",
    "#it is possible that you will have problems installing and loading some packages or that you might have to respond \n",
    "#to prompts to do so correctly. If you follow the prompts you should be able to install everything. \n",
    "#If there are problems, please post on Github\n"
   ]
  },
  {
   "cell_type": "markdown",
   "metadata": {},
   "source": [
    "# Setup a workspace\n",
    "I like to create a project name as the parent directory with subdirectories to hold the downloaded raw and metadata. I then will create other subdirectories by date to host all of the analyses. This project requires several (40-50) GBs of data so I recommend linking to an external hard drive or cloud storage such as Box through Box Drive if you have a small hard drive.\n"
   ]
  },
  {
   "cell_type": "code",
   "execution_count": 33,
   "metadata": {},
   "outputs": [],
   "source": [
    "#after base_dir please modify the code to reflect what YOU want your base directory to be\n",
    "base_dir <- \"/Volumes/Oesterreich\"\n",
    "setwd(base_dir)\n",
    "\n",
    "project_name <- \"TCGA_Her2_TNBC_DEGs\"\n",
    "date <- \"2019_02_06\"\n",
    "dir.create(file.path(project_name, \"raw_data\"), recursive = TRUE)\n",
    "dir.create(file.path(project_name, \"metadata\"), recursive = TRUE)\n",
    "dir.create(file.path(project_name, date), recursive = TRUE)\n",
    "setwd(project_name)\n"
   ]
  },
  {
   "cell_type": "code",
   "execution_count": 34,
   "metadata": {},
   "outputs": [
    {
     "data": {
      "text/html": [
       "'/Volumes/Oesterreich/TCGA_Her2_TNBC_DEGs'"
      ],
      "text/latex": [
       "'/Volumes/Oesterreich/TCGA\\_Her2\\_TNBC\\_DEGs'"
      ],
      "text/markdown": [
       "'/Volumes/Oesterreich/TCGA_Her2_TNBC_DEGs'"
      ],
      "text/plain": [
       "[1] \"/Volumes/Oesterreich/TCGA_Her2_TNBC_DEGs\""
      ]
     },
     "metadata": {},
     "output_type": "display_data"
    }
   ],
   "source": [
    "#Now I will do a quick check that I am in the properly created directory\n",
    "getwd()"
   ]
  },
  {
   "cell_type": "markdown",
   "metadata": {},
   "source": [
    "# Reproducibilty is only possible if we know the correct version of all the software and data. R has a built in function sissionInfo() that will print all of the versions of the packages and R itself. It is critical to record this metadata with your analyses. "
   ]
  },
  {
   "cell_type": "code",
   "execution_count": 35,
   "metadata": {},
   "outputs": [
    {
     "data": {
      "text/plain": [
       "R version 3.5.1 (2018-07-02)\n",
       "Platform: x86_64-apple-darwin15.6.0 (64-bit)\n",
       "Running under: macOS  10.14.2\n",
       "\n",
       "Matrix products: default\n",
       "BLAS: /Library/Frameworks/R.framework/Versions/3.5/Resources/lib/libRblas.0.dylib\n",
       "LAPACK: /Library/Frameworks/R.framework/Versions/3.5/Resources/lib/libRlapack.dylib\n",
       "\n",
       "locale:\n",
       "[1] en_US.UTF-8/en_US.UTF-8/en_US.UTF-8/C/en_US.UTF-8/en_US.UTF-8\n",
       "\n",
       "attached base packages:\n",
       "[1] parallel  stats4    stats     graphics  grDevices utils     datasets \n",
       "[8] methods   base     \n",
       "\n",
       "other attached packages:\n",
       " [1] pheatmap_1.0.10             usethis_1.4.0              \n",
       " [3] devtools_2.0.0              RColorBrewer_1.1-2         \n",
       " [5] gplots_3.0.1                ggplot2_3.0.0              \n",
       " [7] jsonlite_1.5                biomaRt_2.36.1             \n",
       " [9] DESeq2_1.20.0               SummarizedExperiment_1.10.1\n",
       "[11] DelayedArray_0.6.6          BiocParallel_1.14.2        \n",
       "[13] matrixStats_0.54.0          Biobase_2.40.0             \n",
       "[15] GenomicRanges_1.32.6        GenomeInfoDb_1.16.0        \n",
       "[17] IRanges_2.14.11             S4Vectors_0.18.3           \n",
       "[19] BiocGenerics_0.26.0         tximport_1.8.0             \n",
       "[21] data.table_1.11.4           R.utils_2.7.0              \n",
       "[23] R.oo_1.22.0                 R.methodsS3_1.7.1          \n",
       "[25] pacman_0.4.6               \n",
       "\n",
       "loaded via a namespace (and not attached):\n",
       " [1] fs_1.2.6               bitops_1.0-6           bit64_0.9-7           \n",
       " [4] progress_1.2.0         httr_1.3.1             rprojroot_1.3-2       \n",
       " [7] repr_0.15.0            tools_3.5.1            backports_1.1.2       \n",
       "[10] R6_2.2.2               rpart_4.1-13           KernSmooth_2.23-15    \n",
       "[13] Hmisc_4.1-1            DBI_1.0.0              lazyeval_0.2.1        \n",
       "[16] colorspace_1.3-2       nnet_7.3-12            withr_2.1.2           \n",
       "[19] processx_3.2.0         gridExtra_2.3          prettyunits_1.0.2     \n",
       "[22] bit_1.1-14             compiler_3.5.1         cli_1.0.0             \n",
       "[25] htmlTable_1.12         desc_1.2.0             caTools_1.17.1.1      \n",
       "[28] scales_1.0.0           checkmate_1.8.5        genefilter_1.62.0     \n",
       "[31] callr_3.0.0            pbdZMQ_0.3-3           stringr_1.3.1         \n",
       "[34] digest_0.6.18          foreign_0.8-70         XVector_0.20.0        \n",
       "[37] base64enc_0.1-3        pkgconfig_2.0.2        htmltools_0.3.6       \n",
       "[40] sessioninfo_1.1.0      htmlwidgets_1.2        rlang_0.2.2           \n",
       "[43] rstudioapi_0.7         RSQLite_2.1.1          gtools_3.8.1          \n",
       "[46] acepack_1.4.1          RCurl_1.95-4.11        magrittr_1.5          \n",
       "[49] GenomeInfoDbData_1.1.0 Formula_1.2-3          Matrix_1.2-14         \n",
       "[52] Rcpp_0.12.19           IRkernel_0.8.15        munsell_0.5.0         \n",
       "[55] stringi_1.2.4          zlibbioc_1.26.0        pkgbuild_1.0.2        \n",
       "[58] plyr_1.8.4             grid_3.5.1             blob_1.1.1            \n",
       "[61] gdata_2.18.0           crayon_1.3.4           lattice_0.20-35       \n",
       "[64] IRdisplay_0.6          splines_3.5.1          annotate_1.58.0       \n",
       "[67] hms_0.4.2              locfit_1.5-9.1         ps_1.2.0              \n",
       "[70] knitr_1.20             pillar_1.3.0           uuid_0.1-2            \n",
       "[73] pkgload_1.0.1          geneplotter_1.58.0     glue_1.3.0            \n",
       "[76] XML_3.98-1.16          evaluate_0.12          latticeExtra_0.6-28   \n",
       "[79] remotes_2.0.1          gtable_0.2.0           assertthat_0.2.0      \n",
       "[82] xtable_1.8-3           survival_2.42-3        tibble_1.4.2          \n",
       "[85] AnnotationDbi_1.42.1   memoise_1.1.0          cluster_2.0.7-1       "
      ]
     },
     "metadata": {},
     "output_type": "display_data"
    }
   ],
   "source": [
    "#check that all of the packages loaded\n",
    "sessionInfo()\n",
    "\n",
    "#save that info to file\n",
    "writeLines(capture.output(sessionInfo()), file.path(date, \"sessionInfo.txt\"))\n",
    "\n",
    "#note normally I would use the sink command as shown below\n",
    "#the sink command saves all info that is normally printed to screen\n",
    "#However, sink doesn't work well in jupyter notebooks\n",
    "#sink(file.path(\"raw_data\", \"analysis.package.versions.txt\"))\n",
    "#sessionInfo()\n",
    "#sink()"
   ]
  },
  {
   "cell_type": "markdown",
   "metadata": {},
   "source": [
    "# Download and decompress the data\n",
    "Note we are downloading the count data and abumdance data (tpm)from the [TCGA pancan analysis](https://xenabrowser.net/datapages/?cohort=TCGA%20Pan-Cancer%20(PANCAN) on the XENA browser because this contains all of the reanalyzed TCGA data. However, for the clinical data we will download directly from the [breast cancer dataset](https://xenabrowser.net/datapages/?cohort=TCGA%20Breast%20Cancer%20(BRCA) also hosted on the XENA Browser. This is because much of the clinical data is not retained in the pancan phenotype data because every cancer type has different clinical tests that are unique. Note this will take some time. \n",
    "\n",
    "The final size of the files are:\n",
    "- BRCA_clinicalMatrix.gz = 269 KB\n",
    "- tcga_Kallisto_est_counts.gz = 3.75 GB\n",
    "- tcga_Kallisto_tpm.gz = 3.95 GB\n",
    "\n",
    "If you consistently run into download errors stating the transfer of a partial file, I suggest navigating to the appropriate xena browser webpage (https://xenabrowser.net/datapages/?cohort=TCGA%20Pan-Cancer%20(PANCAN)&removeHub=https%3A%2F%2Fxena.treehouse.gi.ucsc.edu%3A443) and download directly from there. Scroll to the bottom of the page from the link above and click on \"TCGA Kallisto est_counts\" or \"TCGA Kallisto tpm.\" On those respective pages, click on the download link. You can then rename the downloaded file based on the destfile call below and move to the appropriate directories."
   ]
  },
  {
   "cell_type": "code",
   "execution_count": 37,
   "metadata": {},
   "outputs": [],
   "source": [
    "#clinical data downloaded from \n",
    "download.file(url = \"https://tcga.xenahubs.net/download/TCGA.BRCA.sampleMap/BRCA_clinicalMatrix.gz\", destfile = file.path(\"raw_data\", \"tcga_brca.clinical.gz\"))\n",
    "download.file(url = \"https://tcga.xenahubs.net/download/TCGA.BRCA.sampleMap/BRCA_clinicalMatrix.json\", destfile = file.path(\"metadata\", \"tcga_brca.clinical.metadata\"))\n",
    "\n",
    "\n",
    "#download TCGA count data this is pancan\n",
    "download.file(url = \"https://toil.xenahubs.net/download/tcga_Kallisto_est_counts.gz\", destfile = file.path(\"raw_data\", \"tcga_countdata.gz\"))\n",
    "download.file(url = \"https://toil.xenahubs.net/download/tcga_Kallisto_est_counts.json\", destfile = file.path(\"metadata\", \"tcga_count_metadata\"))\n",
    "\n",
    "#download TCGA TPM data this is pancan\n",
    "download.file(url = \"https://toil.xenahubs.net/download/tcga_Kallisto_tpm.gz\", destfile = file.path(\"raw_data\", \"tcga_tpmdata.gz\"))\n",
    "download.file(url = \"https://toil.xenahubs.net/download/tcga_Kallisto_tpm.json\", destfile = file.path(\"metadata\", \"tcga_tpm_metadata\"))\n",
    "\n",
    "\n",
    "\n"
   ]
  },
  {
   "cell_type": "markdown",
   "metadata": {},
   "source": [
    "# Confirm that the files downloaded appropriately\n",
    "When dealing with relatively large files, if at all possible you should confirm that the files downloaded completely. One possible way of doing this is through the use of [md5sum](https://en.wikipedia.org/wiki/Md5sum). This uses hashes to create a 'digital fingerprint' of the data. Sometimes these are provided by the hosts of the data. Unfortunately, the XENA browser does not supply MD5 codes, but I have made them for you. Run the code below and confirm that the hashes are identical.\n",
    "\n",
    "- tcga_brca.clinical.gz = 'c67d5f0dea5940fd61cd270b4596a86d'\n",
    "- tcga_coundata.gz = '86f8a3f1059053844428939b12b30f04'\n",
    "- tcga_tpmdata.gz ='f44b67b0347e4164a8b29a6cd1a9d709'"
   ]
  },
  {
   "cell_type": "code",
   "execution_count": 38,
   "metadata": {},
   "outputs": [
    {
     "data": {
      "text/html": [
       "<strong>./raw_data/tcga_brca.clinical.gz:</strong> 'c67d5f0dea5940fd61cd270b4596a86d'"
      ],
      "text/latex": [
       "\\textbf{./raw\\textbackslash{}\\_data/tcga\\textbackslash{}\\_brca.clinical.gz:} 'c67d5f0dea5940fd61cd270b4596a86d'"
      ],
      "text/markdown": [
       "**./raw_data/tcga_brca.clinical.gz:** 'c67d5f0dea5940fd61cd270b4596a86d'"
      ],
      "text/plain": [
       "  ./raw_data/tcga_brca.clinical.gz \n",
       "\"c67d5f0dea5940fd61cd270b4596a86d\" "
      ]
     },
     "metadata": {},
     "output_type": "display_data"
    },
    {
     "data": {
      "text/html": [
       "<strong>./raw_data/tcga_countdata.gz:</strong> '86f8a3f1059053844428939b12b30f04'"
      ],
      "text/latex": [
       "\\textbf{./raw\\textbackslash{}\\_data/tcga\\textbackslash{}\\_countdata.gz:} '86f8a3f1059053844428939b12b30f04'"
      ],
      "text/markdown": [
       "**./raw_data/tcga_countdata.gz:** '86f8a3f1059053844428939b12b30f04'"
      ],
      "text/plain": [
       "      ./raw_data/tcga_countdata.gz \n",
       "\"86f8a3f1059053844428939b12b30f04\" "
      ]
     },
     "metadata": {},
     "output_type": "display_data"
    },
    {
     "data": {
      "text/html": [
       "<strong>./raw_data/tcga_tpmdata.gz:</strong> 'f44b67b0347e4164a8b29a6cd1a9d709'"
      ],
      "text/latex": [
       "\\textbf{./raw\\textbackslash{}\\_data/tcga\\textbackslash{}\\_tpmdata.gz:} 'f44b67b0347e4164a8b29a6cd1a9d709'"
      ],
      "text/markdown": [
       "**./raw_data/tcga_tpmdata.gz:** 'f44b67b0347e4164a8b29a6cd1a9d709'"
      ],
      "text/plain": [
       "        ./raw_data/tcga_tpmdata.gz \n",
       "\"f44b67b0347e4164a8b29a6cd1a9d709\" "
      ]
     },
     "metadata": {},
     "output_type": "display_data"
    }
   ],
   "source": [
    "tools::md5sum(\"./raw_data/tcga_brca.clinical.gz\")\n",
    "tools::md5sum(\"./raw_data/tcga_countdata.gz\")\n",
    "tools::md5sum(\"./raw_data/tcga_tpmdata.gz\")\n"
   ]
  },
  {
   "cell_type": "code",
   "execution_count": 39,
   "metadata": {},
   "outputs": [],
   "source": [
    "#the counts and TPM data are compressed files so we will use the R.utils function gunzip to decompress\n",
    "#remove = FALSE so that the compressed file is not deleted in case the decompression fails\n",
    "#if space is an issue have remove = TRUE\n",
    "gunzip(\"./raw_data/tcga_countdata.gz\", remove = FALSE)\n",
    "gunzip(\"./raw_data/tcga_tpmdata.gz\", remove = FALSE)\n",
    "gunzip(\"./raw_data/tcga_brca.clinical.gz\", remove = FALSE)\n",
    "\n",
    "\n"
   ]
  },
  {
   "cell_type": "markdown",
   "metadata": {},
   "source": [
    "# Confirm the files were extracted\n",
    "Run the command below to confirm that the files downloaded into the proper directories, were decompressed, and are the correct size (size is in bytes). Also, this will show you the full names of the files that you will use later in this exercise. The final file sizes of the decompressed files are:\n",
    "- tcga_brca.clinical = 1.7 MB\n",
    "- tcga_coundata = 14.7 GB\n",
    "- tcga_tpmdata = 16.37 GB"
   ]
  },
  {
   "cell_type": "code",
   "execution_count": 31,
   "metadata": {},
   "outputs": [
    {
     "data": {
      "text/html": [
       "<table>\n",
       "<thead><tr><th scope=col>files</th><th scope=col>sizes</th></tr></thead>\n",
       "<tbody>\n",
       "\t<tr><td>2019_01_15/brca.clin.data.her2.tnbc.txt</td><td>     110748                            </td></tr>\n",
       "\t<tr><td>2019_01_15/brca.her2.known.counts.Rda  </td><td>  100110323                            </td></tr>\n",
       "\t<tr><td>2019_01_15/brca.her2.known.tpm.Rda     </td><td>  100110323                            </td></tr>\n",
       "\t<tr><td>2019_01_15/sessionInfo.txt             </td><td>       3475                            </td></tr>\n",
       "\t<tr><td>metadata/tcga_brca.clinical.metadata   </td><td>        318                            </td></tr>\n",
       "\t<tr><td>metadata/tcga_count_metadata           </td><td>        575                            </td></tr>\n",
       "\t<tr><td>metadata/tcga_tpm_metadata             </td><td>        515                            </td></tr>\n",
       "\t<tr><td>raw_data/tcga_brca.clinical            </td><td>    1739974                            </td></tr>\n",
       "\t<tr><td>raw_data/tcga_brca.clinical.gz         </td><td>     269214                            </td></tr>\n",
       "\t<tr><td>raw_data/tcga_countdata                </td><td>14696631688                            </td></tr>\n",
       "\t<tr><td>raw_data/tcga_countdata.gz             </td><td> 3746736036                            </td></tr>\n",
       "\t<tr><td>raw_data/tcga_tpmdata                  </td><td>16372118713                            </td></tr>\n",
       "\t<tr><td>raw_data/tcga_tpmdata.gz               </td><td> 3947965824                            </td></tr>\n",
       "</tbody>\n",
       "</table>\n"
      ],
      "text/latex": [
       "\\begin{tabular}{r|ll}\n",
       " files & sizes\\\\\n",
       "\\hline\n",
       "\t 2019\\_01\\_15/brca.clin.data.her2.tnbc.txt &      110748                                \\\\\n",
       "\t 2019\\_01\\_15/brca.her2.known.counts.Rda   &   100110323                                \\\\\n",
       "\t 2019\\_01\\_15/brca.her2.known.tpm.Rda      &   100110323                                \\\\\n",
       "\t 2019\\_01\\_15/sessionInfo.txt              &        3475                                \\\\\n",
       "\t metadata/tcga\\_brca.clinical.metadata    &         318                              \\\\\n",
       "\t metadata/tcga\\_count\\_metadata            &         575                                \\\\\n",
       "\t metadata/tcga\\_tpm\\_metadata              &         515                                \\\\\n",
       "\t raw\\_data/tcga\\_brca.clinical             &     1739974                                \\\\\n",
       "\t raw\\_data/tcga\\_brca.clinical.gz          &      269214                                \\\\\n",
       "\t raw\\_data/tcga\\_countdata                 & 14696631688                                \\\\\n",
       "\t raw\\_data/tcga\\_countdata.gz              &  3746736036                                \\\\\n",
       "\t raw\\_data/tcga\\_tpmdata                   & 16372118713                                \\\\\n",
       "\t raw\\_data/tcga\\_tpmdata.gz                &  3947965824                                \\\\\n",
       "\\end{tabular}\n"
      ],
      "text/markdown": [
       "\n",
       "files | sizes | \n",
       "|---|---|---|---|---|---|---|---|---|---|---|---|---|\n",
       "| 2019_01_15/brca.clin.data.her2.tnbc.txt |      110748                             | \n",
       "| 2019_01_15/brca.her2.known.counts.Rda   |   100110323                             | \n",
       "| 2019_01_15/brca.her2.known.tpm.Rda      |   100110323                             | \n",
       "| 2019_01_15/sessionInfo.txt              |        3475                             | \n",
       "| metadata/tcga_brca.clinical.metadata    |         318                             | \n",
       "| metadata/tcga_count_metadata            |         575                             | \n",
       "| metadata/tcga_tpm_metadata              |         515                             | \n",
       "| raw_data/tcga_brca.clinical             |     1739974                             | \n",
       "| raw_data/tcga_brca.clinical.gz          |      269214                             | \n",
       "| raw_data/tcga_countdata                 | 14696631688                             | \n",
       "| raw_data/tcga_countdata.gz              |  3746736036                             | \n",
       "| raw_data/tcga_tpmdata                   | 16372118713                             | \n",
       "| raw_data/tcga_tpmdata.gz                |  3947965824                             | \n",
       "\n",
       "\n"
      ],
      "text/plain": [
       "   files                                   sizes      \n",
       "1  2019_01_15/brca.clin.data.her2.tnbc.txt      110748\n",
       "2  2019_01_15/brca.her2.known.counts.Rda     100110323\n",
       "3  2019_01_15/brca.her2.known.tpm.Rda        100110323\n",
       "4  2019_01_15/sessionInfo.txt                     3475\n",
       "5  metadata/tcga_brca.clinical.metadata            318\n",
       "6  metadata/tcga_count_metadata                    575\n",
       "7  metadata/tcga_tpm_metadata                      515\n",
       "8  raw_data/tcga_brca.clinical                 1739974\n",
       "9  raw_data/tcga_brca.clinical.gz               269214\n",
       "10 raw_data/tcga_countdata                 14696631688\n",
       "11 raw_data/tcga_countdata.gz               3746736036\n",
       "12 raw_data/tcga_tpmdata                   16372118713\n",
       "13 raw_data/tcga_tpmdata.gz                 3947965824"
      ]
     },
     "metadata": {},
     "output_type": "display_data"
    }
   ],
   "source": [
    "#look to see that files downloaded and extracted. Also determine the path for the appropriate clinical file\n",
    "files <- list.files(recursive = TRUE)\n",
    "sizes <- file.size(files)\n",
    "\n",
    "data.frame(files = files, sizes = sizes)\n",
    "           \n"
   ]
  },
  {
   "cell_type": "markdown",
   "metadata": {},
   "source": [
    "___\n",
    "___\n",
    "___"
   ]
  },
  {
   "cell_type": "markdown",
   "metadata": {},
   "source": [
    "# Think about another question that you would like to answer.\n",
    "It can be a question based on the clinical data in the breast cancer set, or a question in another tumor type in TCGA or even normal like tissues using GTEX data. How would you start the analysis? What files do you need to download. Explore the Xena browser to determine if it contains the counts data that you need."
   ]
  },
  {
   "cell_type": "code",
   "execution_count": null,
   "metadata": {},
   "outputs": [],
   "source": []
  }
 ],
 "metadata": {
  "kernelspec": {
   "display_name": "R",
   "language": "R",
   "name": "ir"
  },
  "language_info": {
   "codemirror_mode": "r",
   "file_extension": ".r",
   "mimetype": "text/x-r-source",
   "name": "R",
   "pygments_lexer": "r",
   "version": "3.5.1"
  }
 },
 "nbformat": 4,
 "nbformat_minor": 2
}
